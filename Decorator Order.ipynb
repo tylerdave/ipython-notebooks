{
 "metadata": {
  "name": ""
 },
 "nbformat": 3,
 "nbformat_minor": 0,
 "worksheets": [
  {
   "cells": [
    {
     "cell_type": "code",
     "collapsed": false,
     "input": [
      "from functools import wraps"
     ],
     "language": "python",
     "metadata": {},
     "outputs": [],
     "prompt_number": 1
    },
    {
     "cell_type": "code",
     "collapsed": false,
     "input": [
      "def first_check(f):\n",
      "    @wraps(f)\n",
      "    def decorated(*args, **kwargs):\n",
      "        print('first check, pre wrapped func')\n",
      "        returned_f = f(*args, **kwargs)\n",
      "        print('first check, post wrapped func')\n",
      "        return returned_f\n",
      "    return decorated\n",
      "\n",
      "def second_check(f):\n",
      "    @wraps(f)\n",
      "    def decorated(*args, **kwargs):\n",
      "        print('second check, pre wrapped func')\n",
      "        returned_f = f(*args, **kwargs)\n",
      "        print('second check, post wrapped func')\n",
      "        return returned_f\n",
      "    return decorated\n",
      "\n",
      "@first_check\n",
      "@second_check\n",
      "def say_hello(name='World'):\n",
      "    print('Hello, {0}!'.format(name))\n",
      "    return name"
     ],
     "language": "python",
     "metadata": {},
     "outputs": [],
     "prompt_number": 18
    },
    {
     "cell_type": "code",
     "collapsed": false,
     "input": [
      "say_hello()"
     ],
     "language": "python",
     "metadata": {},
     "outputs": [
      {
       "output_type": "stream",
       "stream": "stdout",
       "text": [
        "first check, pre wrapped func\n",
        "second check, pre wrapped func\n",
        "Hello, World!\n",
        "second check, post wrapped func\n",
        "first check, post wrapped func\n"
       ]
      },
      {
       "metadata": {},
       "output_type": "pyout",
       "prompt_number": 19,
       "text": [
        "'World'"
       ]
      }
     ],
     "prompt_number": 19
    },
    {
     "cell_type": "code",
     "collapsed": false,
     "input": [],
     "language": "python",
     "metadata": {},
     "outputs": []
    }
   ],
   "metadata": {}
  }
 ]
}